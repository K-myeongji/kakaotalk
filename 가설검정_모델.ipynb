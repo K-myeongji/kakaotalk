{
  "nbformat": 4,
  "nbformat_minor": 0,
  "metadata": {
    "colab": {
      "provenance": [],
      "include_colab_link": true
    },
    "kernelspec": {
      "name": "python3",
      "display_name": "Python 3"
    },
    "language_info": {
      "name": "python"
    }
  },
  "cells": [
    {
      "cell_type": "markdown",
      "metadata": {
        "id": "view-in-github",
        "colab_type": "text"
      },
      "source": [
        "<a href=\"https://colab.research.google.com/github/K-myeongji/kakaotalk/blob/main/%EA%B0%80%EC%84%A4%EA%B2%80%EC%A0%95_%EB%AA%A8%EB%8D%B8.ipynb\" target=\"_parent\"><img src=\"https://colab.research.google.com/assets/colab-badge.svg\" alt=\"Open In Colab\"/></a>"
      ]
    },
    {
      "cell_type": "markdown",
      "source": [
        "#### 형태소 분석기 실행 - konlpy"
      ],
      "metadata": {
        "id": "7VZ385OZsl06"
      }
    },
    {
      "cell_type": "code",
      "source": [
        "!pip install konlpy"
      ],
      "metadata": {
        "colab": {
          "base_uri": "https://localhost:8080/"
        },
        "id": "wycvm-CXqpUs",
        "outputId": "2be36e2a-a5ac-4da6-884f-74ffcf0c8326"
      },
      "execution_count": null,
      "outputs": [
        {
          "output_type": "stream",
          "name": "stdout",
          "text": [
            "Looking in indexes: https://pypi.org/simple, https://us-python.pkg.dev/colab-wheels/public/simple/\n",
            "Requirement already satisfied: konlpy in /usr/local/lib/python3.10/dist-packages (0.6.0)\n",
            "Requirement already satisfied: JPype1>=0.7.0 in /usr/local/lib/python3.10/dist-packages (from konlpy) (1.4.1)\n",
            "Requirement already satisfied: lxml>=4.1.0 in /usr/local/lib/python3.10/dist-packages (from konlpy) (4.9.2)\n",
            "Requirement already satisfied: numpy>=1.6 in /usr/local/lib/python3.10/dist-packages (from konlpy) (1.22.4)\n",
            "Requirement already satisfied: packaging in /usr/local/lib/python3.10/dist-packages (from JPype1>=0.7.0->konlpy) (23.1)\n"
          ]
        }
      ]
    },
    {
      "cell_type": "markdown",
      "source": [
        "#### Stemming & Lemmatization 실행\n",
        "\n",
        "- Stemming 은 Hannanum을 사용함  --> 이렇게 뭐 썼는지 정리하기\n",
        "- 너무 잘게 쪼개져서 Stemming랑 Lemmatization 둘 다 주석처리 해놓음.\n",
        "\n"
      ],
      "metadata": {
        "id": "6x9ry8tg8Nlw"
      }
    },
    {
      "cell_type": "code",
      "source": [
        "from konlpy.tag import Hannanum\n",
        "from konlpy.tag import Okt\n",
        "import pandas as pd\n",
        "\n",
        "# 형태소 분석기 객체 생성\n",
        "hannanum = Hannanum()\n",
        "tokenizer = Okt()\n",
        "\n",
        "\n",
        "# 형태소 분석 함수 정의\n",
        "def analyze_text(text):\n",
        "    tokens = tokenizer.pos(text)\n",
        "    words = [word for word, pos in tokens if pos.startswith('N') or pos.startswith('V') or pos.startswith('Adjective') or pos.startswith('Adverb')]\n",
        "    return words\n",
        "\n",
        "# 전처리 및 토큰화 함수 정의\n",
        "def preprocess_text(text):\n",
        "    tokens = analyze_text(text)  # 형태소 분석\n",
        "    tokens = remove_stopwords(tokens)  # 불용어 처리\n",
        "    # tokens = stem(tokens)  # Stemming 적용\n",
        "    # tokens = lemmatize(tokens)  # Lemmatization 적용\n",
        "    return tokens\n",
        "\n",
        "# 불용어 처리 함수 정의\n",
        "def remove_stopwords(tokens):\n",
        "    stopwords = ['있', '하', '것', '들', '되', '수', '보', '주', '등', '한', '지', '대해', '및', '에', '얘', '오늘', '근데', '나도', '디', '함',\n",
        "                 '와', '과', '네', '들', '듯', '게', '도', '지', '고', '아', '어', '음', '어서', '어요', '으니', '하는', '하고', '할', '옹',\n",
        "                 '는데', '습니다', '면서', '입니다', '으로', '까지', '이다', '이면', '해', '다', '진짜', '이', '야', '우',\n",
        "                 '거', '나', '우리', '네가', '언니', '오빠', '형', '누나', '엄마', '아빠', '내', '난', '너','효림','예진','명지','주영','다연','효빈','민정','주영',\n",
        "                 '민경','지은','채원','민서','준희','호정']\n",
        "    filtered_tokens = [token for token in tokens if token not in stopwords]\n",
        "    return filtered_tokens\n",
        "\n",
        "def preprocess_text(text):\n",
        "    tokens = analyze_text(text)  # 형태소 분석\n",
        "    tokens = remove_stopwords(tokens)  # 불용어 처리\n",
        "\n",
        "    # POS 태깅 적용\n",
        "    pos_tags = tokenizer.pos(text)\n",
        "    pos_tags = [(word, pos) for word, pos in pos_tags if pos.startswith('N') or pos.startswith('V') or pos.startswith('Adjective') or pos.startswith('Adverb')]\n",
        "\n",
        "    return tokens, pos_tags\n",
        "\n",
        "# 토큰화 및 불용어 처리\n",
        "df_sep['tokens'], df_sep['pos_tags'] = zip(*df_sep['text'].apply(preprocess_text))\n",
        "\n",
        "# 결과 출력\n",
        "df_sep"
      ],
      "metadata": {
        "id": "FfWzWgsM8LY1"
      },
      "execution_count": null,
      "outputs": []
    },
    {
      "cell_type": "code",
      "source": [
        "df_sep = df_sep[df_sep['user_name'] == '**']\n",
        "df_sep['user_name'] = 'ab12'\n",
        "df_sep = df_sep[['date_time', 'user_name', 'text']]\n",
        "df_sep = df_sep.drop([1, 6]).reset_index(drop=True)"
      ],
      "metadata": {
        "id": "1I4GACbyasqd"
      },
      "execution_count": null,
      "outputs": []
    },
    {
      "cell_type": "code",
      "source": [
        "df_sep"
      ],
      "metadata": {
        "id": "TLobOSGEa0VB"
      },
      "execution_count": null,
      "outputs": []
    },
    {
      "cell_type": "code",
      "source": [
        "from konlpy.tag import Okt\n",
        "import pandas as pd\n",
        "\n",
        "# 형태소 분석기 객체 생성\n",
        "tokenizer = Okt()\n",
        "\n",
        "# 형태소 분석 함수 정의\n",
        "def analyze_text(text):\n",
        "    tokens = tokenizer.pos(text)\n",
        "    words = [word for word, pos in tokens if pos.startswith('N') or pos.startswith('V') or pos.startswith('Adjective') or pos.startswith('Adverb')]\n",
        "    return words\n",
        "\n",
        "\n",
        "# 불용어 처리 함수 정의\n",
        "def remove_stopwords(tokens):\n",
        "    stopwords = ['있', '하', '것', '들', '되', '수', '보', '주', '등', '한', '지', '대해', '및', '에', '얘', '오늘', '근데', '나도', '디', '함', '와', '과', '네',\n",
        "                 '들', '듯', '게', '도', '지', '고', '아', '어', '음', '어서', '어요', '으니', '하는', '하고', '할', '옹', '는데', '습니다', '면서', '입니다',\n",
        "                 '으로', '까지', '이다', '이면', '해', '다', '진짜', '이', '야', '우', '거', '나', '우리', '네가', '언니', '오빠', '형', '누나', '엄마',\n",
        "                 '아빠', '내', '난', '너']\n",
        "    filtered_tokens = [token for token in tokens if token not in stopwords]\n",
        "    return filtered_tokens\n",
        "\n",
        "def preprocess_text(text):\n",
        "    tokens = analyze_text(text)  # 형태소 분석\n",
        "    tokens = remove_stopwords(tokens)  # 불용어 처리\n",
        "\n",
        "    # POS 태깅 적용\n",
        "    pos_tags = tokenizer.pos(text)\n",
        "    pos_tags = [(word, pos) for word, pos in pos_tags if pos.startswith('N') or pos.startswith('V') or pos.startswith('Adjective') or pos.startswith('Adverb')]\n",
        "\n",
        "    return tokens, pos_tags\n",
        "\n",
        "# 토큰화 및 불용어 처리\n",
        "df_sep['tokens'], df_sep['pos_tags'] = zip(*df_sep['text'].apply(preprocess_text))\n",
        "\n",
        "# 결과 출력\n",
        "df_sep"
      ],
      "metadata": {
        "id": "kHA9IlGmVioq"
      },
      "execution_count": null,
      "outputs": []
    },
    {
      "cell_type": "markdown",
      "source": [
        "#### 데이터 시각화 -> 둘 중 하나? 둘다?\n",
        "- matplotlib\n",
        "- Word Cloud"
      ],
      "metadata": {
        "id": "dbhfvkREUYIX"
      }
    },
    {
      "cell_type": "code",
      "source": [
        "!sudo apt-get install -y fonts-nanum\n",
        "!sudo fc-cache -fv\n",
        "!rm ~/.cache/matplotlib -rf\n",
        "!pip install wordcloud matplotlib\n"
      ],
      "metadata": {
        "id": "aPj1i1p038--"
      },
      "execution_count": null,
      "outputs": []
    },
    {
      "cell_type": "code",
      "source": [
        "from nltk import FreqDist\n",
        "import matplotlib.pyplot as plt\n",
        "# 토큰 빈도수 계산\n",
        "all_tokens = [token for tokens in df_sep['tokens'] for token in tokens]  # 모든 토큰을 하나의 리스트로 변환\n",
        "freq_dist = FreqDist(all_tokens)  # 토큰의 빈도수 계산\n",
        "\n",
        "# 상위 빈도 단어 추출\n",
        "top_words = freq_dist.most_common(10)  # 빈도수가 가장 높은 상위 10개 단어 추출\n",
        "\n",
        "print(top_words)\n",
        "\n",
        "plt.rc('font', family='NanumBarunGothic')\n",
        "\n",
        "# 그래프 그리기\n",
        "freq_dist.plot(20)  # 상위 20개 단어의 빈도 분포 그래프\n",
        "plt.show()\n"
      ],
      "metadata": {
        "id": "nGBUyc1f0CmZ"
      },
      "execution_count": null,
      "outputs": []
    },
    {
      "cell_type": "code",
      "source": [
        "from wordcloud import WordCloud\n",
        "import matplotlib.pyplot as plt\n",
        "from matplotlib import font_manager\n",
        "\n",
        "# Combine all tokens into a single string\n",
        "all_text = ' '.join([' '.join(tokens) for tokens in df_sep['tokens']])\n",
        "\n",
        "# Find the path of the installed Nanum font\n",
        "font_path = font_manager.findfont(font_manager.FontProperties(family='NanumBarunGothic'))\n",
        "\n",
        "# Generate the Word Cloud\n",
        "wordcloud = WordCloud(\n",
        "    width=800,\n",
        "    height=400,\n",
        "    background_color='white',\n",
        "    font_path=font_path,  # 폰트 설정 - 한국어라\n",
        "    max_words = 30,\n",
        "    prefer_horizontal=0.9\n",
        ").generate(all_text)\n",
        "\n",
        "# Plot the Word Cloud\n",
        "plt.figure(figsize=(10, 6))\n",
        "plt.imshow(wordcloud, interpolation='bilinear')\n",
        "plt.axis('off')\n",
        "plt.show()\n"
      ],
      "metadata": {
        "id": "GytbVIVrYwg3"
      },
      "execution_count": null,
      "outputs": []
    },
    {
      "cell_type": "code",
      "source": [
        "#결과를 파일로 만들기\n",
        "df_sep.to_csv(os.path.join(down_path, \"katalk_data_merged_\"+ file_name +\".csv\"), index=False)\n",
        "\n",
        "#사용자 별로 톡한 횟수\n",
        "df_sep['user_name'].value_counts()"
      ],
      "metadata": {
        "id": "DimPX3j7Z_LC"
      },
      "execution_count": null,
      "outputs": []
    },
    {
      "cell_type": "markdown",
      "source": [
        "# 2. train data 전처리"
      ],
      "metadata": {
        "id": "YuqqkZcY9VQQ"
      }
    },
    {
      "cell_type": "code",
      "source": [
        "from konlpy.tag import Okt\n",
        "from konlpy.tag import Kkma\n",
        "from sklearn.linear_model import LogisticRegression\n",
        "from sklearn.metrics import accuracy_score\n",
        "from sklearn.model_selection import GridSearchCV\n",
        "from sklearn.model_selection import train_test_split\n",
        "from gensim.models import Word2Vec\n",
        "import pandas as pd\n",
        "import re\n",
        "import numpy as np\n"
      ],
      "metadata": {
        "id": "LK35C3gm9U3y"
      },
      "execution_count": null,
      "outputs": []
    },
    {
      "cell_type": "code",
      "source": [
        "# 형태소 분석기 객체 생성\n",
        "tokenizer = Okt()\n",
        "kkma = Kkma()\n",
        "\n",
        "# 형태소 분석 함수 정의\n",
        "def analyze_text(text):\n",
        "    tokens = tokenizer.pos(text)\n",
        "    words = [word for word, pos in tokens if pos.startswith('N') or pos.startswith('V') or pos.startswith('Adjective') or pos.startswith('Adverb')]\n",
        "    return words\n",
        "\n",
        "# 불용어 처리 함수 정의\n",
        "def remove_stopwords(tokens):\n",
        "    stopwords = ['있', '하', '것', '들', '되', '수', '보', '주', '등', '한', '지', '대해', '및', '에', '얘', '오늘', '근데', '나도', '디', '함',\n",
        "                 '와', '과', '네', '들', '듯', '게', '도', '지', '고', '아', '어', '음', '어서', '어요', '으니', '하는', '하고', '할', '옹',\n",
        "                 '는데', '습니다', '면서', '입니다', '으로', '까지', '이다', '이면', '해', '다', '진짜', '이', '야', '우', '요', '걸',\n",
        "                 '거', '나', '우리', '네가', '언니', '오빠', '형', '누나', '엄마', '아빠', '내', '난', '너']\n",
        "    meaningful_words = [token for token in tokens if token not in stopwords]\n",
        "    return meaningful_words\n",
        "\n",
        "# 전처리 및 토큰화 함수 정의\n",
        "def preprocess_text(text):\n",
        "    tokens = analyze_text(text)  # 형태소 분석\n",
        "    tokens = remove_stopwords(tokens)  # 불용어 처리\n",
        "    return tokens\n",
        "\n",
        "# Train 데이터 불러오기\n",
        "train_df = pd.read_excel(train_path)\n",
        "\n",
        "# 칼럼 삭제 및 순서 변경\n",
        "train_df = train_df[['text', 'score']]\n",
        "\n",
        "# 한글 외 문자 제거\n",
        "train_df['text'] = train_df['text'].apply(lambda x: re.sub(r'[^ ㄱ-ㅣ가-힣]+', \" \", x))\n",
        "\n",
        "# 토큰화 및 불용어 처리\n",
        "train_df['tokens'] = train_df['text'].apply(preprocess_text)\n",
        "train_df = train_df[['text', 'score', 'tokens']]\n",
        "train_df"
      ],
      "metadata": {
        "id": "7hu4ezCi-U60"
      },
      "execution_count": null,
      "outputs": []
    },
    {
      "cell_type": "code",
      "source": [
        "# Word2Vec 모델 학습\n",
        "sentences = train_df['tokens'].tolist()\n",
        "model = Word2Vec(sentences, vector_size=100, window=10, min_count=8, workers=4, sg=1)\n",
        "\n",
        "# 문장 벡터화 함수 정의\n",
        "def vectorize_text(tokens):\n",
        "    vectors = []\n",
        "    for token in tokens:\n",
        "        if token in model.wv:\n",
        "            vectors.append(model.wv[token])\n",
        "    if vectors:\n",
        "        return np.mean(vectors, axis=0)\n",
        "    else:\n",
        "        return None\n",
        "\n",
        "# 텍스트 벡터화\n",
        "train_df['vectors'] = train_df['tokens'].apply(vectorize_text)\n",
        "\n",
        "# None을 가지는 행 제거\n",
        "train_df = train_df.dropna()\n",
        "\n",
        "# Train/Test 데이터 분리\n",
        "train_x, test_x, train_y, test_y = train_test_split(train_df['vectors'].tolist(), train_df['score'], test_size=0.2, random_state=0)\n",
        "\n",
        "# 로지스틱 회귀 모델 학습 및 최적 하이퍼파라미터 탐색\n",
        "clf = LogisticRegression(random_state=0)\n",
        "params = {'C': [15, 18, 19, 20, 22]}\n",
        "grid_cv = GridSearchCV(clf, param_grid=params, cv=3, scoring='accuracy', verbose=1)\n",
        "grid_cv.fit(train_x, train_y)"
      ],
      "metadata": {
        "id": "4oYv3PY4E3pp"
      },
      "execution_count": null,
      "outputs": []
    },
    {
      "cell_type": "code",
      "source": [
        "# 로지스틱 회귀 모델 학습 및 최적 하이퍼파라미터 탐색\n",
        "clf = LogisticRegression(random_state=0)\n",
        "params = {'C': [15, 18, 19, 20, 22]}\n",
        "grid_cv = GridSearchCV(clf, param_grid=params, cv=3, scoring='accuracy', verbose=1)\n",
        "grid_cv.fit(train_x, train_y)"
      ],
      "metadata": {
        "id": "i5m-EDKqoNF6"
      },
      "execution_count": null,
      "outputs": []
    },
    {
      "cell_type": "code",
      "source": [
        "from sklearn.metrics import precision_score, recall_score, f1_score\n",
        "test_predict = grid_cv.best_estimator_.predict(test_x)\n",
        "\n",
        "\n",
        "# 정확도 계산\n",
        "accuracy = accuracy_score(test_y, test_predict)\n",
        "print('감성 분류 모델의 정확도:', round(accuracy, 3))\n",
        "\n",
        "# 정밀도 계산\n",
        "precision = precision_score(test_y, test_predict, average='macro')\n",
        "print('감성 분류 모델의 정밀도:', round(precision, 3))\n",
        "\n",
        "# 재현율 계산\n",
        "recall = recall_score(test_y, test_predict, average='macro')\n",
        "print('감성 분류 모델의 재현율:', round(recall, 3))\n",
        "\n",
        "# F1 스코어 계산\n",
        "f1 = f1_score(test_y, test_predict, average='macro')\n",
        "print('감성 분류 모델의 F1 스코어:', round(f1, 3))"
      ],
      "metadata": {
        "id": "0x57PWwVIH6n"
      },
      "execution_count": null,
      "outputs": []
    },
    {
      "cell_type": "code",
      "source": [
        "# import matplotlib.pyplot as plt\n",
        "\n",
        "# # Count the occurrences of each score value\n",
        "# score_counts = train_df['score'].value_counts()\n",
        "\n",
        "# # Create a pie chart\n",
        "# plt.figure(figsize=(6, 6))\n",
        "# plt.pie(score_counts, labels=score_counts.index, autopct='%1.1f%%')\n",
        "# plt.title('Score Distribution')\n",
        "# plt.show()"
      ],
      "metadata": {
        "id": "Lqn_UvErFxzi"
      },
      "execution_count": null,
      "outputs": []
    },
    {
      "cell_type": "code",
      "source": [
        "# # 로지스틱 회귀 모델 학습 및 최적 하이퍼파라미터 탐색\n",
        "# clf = LogisticRegression(random_state=0)\n",
        "# params = {'C': [15, 18, 19, 20, 22]}\n",
        "# grid_cv = GridSearchCV(clf, param_grid=params, cv=3, scoring='accuracy', verbose=1)\n",
        "# grid_cv.fit(train_x, train_y)"
      ],
      "metadata": {
        "id": "twlhRzVQIEhC"
      },
      "execution_count": null,
      "outputs": []
    },
    {
      "cell_type": "markdown",
      "source": [
        "# 2)카카오톡 데이터로 실행"
      ],
      "metadata": {
        "id": "MAt3NF9GOHjZ"
      }
    },
    {
      "cell_type": "code",
      "source": [
        "import pandas as pd\n",
        "import re\n",
        "\n",
        "# 엑셀 파일 읽기\n",
        "# df=pd.read_excel('<파일명>')\n",
        "df = pd.read_csv(os.path.join(down_path, \"katalk_data_merged_\"+ file_name +\".csv\"))\n",
        "\n",
        "df"
      ],
      "metadata": {
        "id": "pzcO4sFUIg-b"
      },
      "execution_count": null,
      "outputs": []
    },
    {
      "cell_type": "code",
      "source": [
        "#데이터 프레임에서 보고자하는 친구 이름 선택, 지정\n",
        "df = pd.DataFrame(df[df['user_name'] == name])\n",
        "df"
      ],
      "metadata": {
        "id": "G6_lex3lIzlz"
      },
      "execution_count": null,
      "outputs": []
    },
    {
      "cell_type": "code",
      "source": [
        "import pandas as pd\n",
        "\n",
        "# 대화량을 맞추기 위한 예시 코드\n",
        "def adjust_conversation_length(df, num_sentences):\n",
        "    adjusted_df = pd.DataFrame(columns=df.columns)\n",
        "    for user_name in df['user_name'].unique():\n",
        "        user_df = df[df['user_name'] == user_name]\n",
        "        if len(user_df) > num_sentences:\n",
        "            user_df = user_df.sample(num_sentences, random_state=0)\n",
        "        elif len(user_df) < num_sentences:\n",
        "            user_df = pd.concat([user_df] * (num_sentences // len(user_df) + 1)).head(num_sentences)\n",
        "        adjusted_df = pd.concat([adjusted_df, user_df])\n",
        "    return adjusted_df\n",
        "\n",
        "# 대화량을 맞춰줄 최대 대화문장 수 (예시에서는 100으로 설정)\n",
        "max_sentences = 300\n",
        "\n",
        "# adjust_conversation_length 함수를 사용하여 대화량 맞춤\n",
        "df = adjust_conversation_length(df, max_sentences)\n",
        "\n",
        "# 대화량 맞춘 데이터프레임 확인\n",
        "df\n",
        "\n"
      ],
      "metadata": {
        "id": "k-OfyEXs-SM4"
      },
      "execution_count": null,
      "outputs": []
    },
    {
      "cell_type": "code",
      "source": [
        "# # 문장 열에서 문장들을 가져와서 감정 분석 함수 실행\n",
        "# sentiments = []\n",
        "# for sentence in df['text']:\n",
        "#   # 입력 텍스트에 대한 전처리 수행\n",
        "#   words = re.compile(r'[ㄱ-ㅣ가-힣0-9]+').findall(sentence)\n",
        "#   sentence = [\" \".join(words)]\n",
        "#   # 감정 분석 함수 실행\n",
        "#   st_tfidf = tfv.transform(sentence)\n",
        "#   sentiment = grid_cv.best_estimator_.predict(st_tfidf)\n",
        "#   sentiments.append(sentiment)\n",
        "# #함수 실행 결과를 데이터 프레임의 감정이라는 셀을 만들고 저장\n",
        "# df['감정'] = sentiments\n",
        "# #만들어진 데이터 프레임 저장\n",
        "# df\n",
        "\n",
        "# 문장 열에서 문장들을 가져와서 감정 분석 함수 실행\n",
        "sentiments = []\n",
        "for sentence in df['text']:\n",
        "    # 입력 텍스트에 대한 전처리 수행\n",
        "    words = re.compile(r'[ㄱ-ㅣ가-힣0-9]+').findall(sentence)\n",
        "    sentence = [\" \".join(words)]\n",
        "    # 감정 분석 함수 실행\n",
        "    tokens = preprocess_text(sentence[0])\n",
        "    vectors = vectorize_text(tokens)\n",
        "    if vectors is not None:\n",
        "        sentiment = grid_cv.best_estimator_.predict([vectors])\n",
        "    else:\n",
        "        sentiment = None\n",
        "    sentiments.append(sentiment)\n",
        "\n",
        "# 함수 실행 결과를 데이터 프레임의 감정이라는 셀을 만들고 저장\n",
        "df['감정'] = sentiments\n",
        "df\n"
      ],
      "metadata": {
        "id": "V3_pbUoZImst"
      },
      "execution_count": null,
      "outputs": []
    },
    {
      "cell_type": "code",
      "source": [
        "# 전체 문장 수\n",
        "total_sentences = len(df)\n",
        "\n",
        "# 0인 감정 분석 결과 수\n",
        "negative_count = len(df[df['감정'] == 0])\n",
        "\n",
        "# 0인 비율 계산\n",
        "negative_ratio = negative_count / total_sentences\n",
        "\n",
        "print(f\"전체 문장 수: {total_sentences}\")\n",
        "print(f\"0인 감정 분석 결과 수: {negative_count}\")\n",
        "print(f\"0인 비율: {negative_ratio:.2%}\")"
      ],
      "metadata": {
        "colab": {
          "base_uri": "https://localhost:8080/"
        },
        "id": "HWPp50r6JBXG",
        "outputId": "6ac91ee5-f139-4f23-8785-9ff59e7b82b0"
      },
      "execution_count": null,
      "outputs": [
        {
          "output_type": "stream",
          "name": "stdout",
          "text": [
            "전체 문장 수: 300\n",
            "0인 감정 분석 결과 수: 67\n",
            "0인 비율: 22.33%\n"
          ]
        }
      ]
    },
    {
      "cell_type": "markdown",
      "source": [
        "## 3) 각 결과 데이터프레임으로 저장\n",
        "\n",
        "---\n",
        "\n",
        "\n"
      ],
      "metadata": {
        "id": "oAnvlNSjL0XN"
      }
    },
    {
      "cell_type": "code",
      "source": [
        "import pandas as pd\n",
        "import os\n",
        "\n",
        "data = {\n",
        "    'name': [file_name],\n",
        "    'total_sentences': [total_sentences],\n",
        "    'negative_count': [negative_count],\n",
        "    'negative_ratio': [negative_ratio]\n",
        "}\n",
        "\n",
        "df_result = pd.DataFrame(data)\n",
        "file_path = os.path.join(final_path, final_name + '.csv')\n",
        "\n",
        "if os.path.exists(file_path):\n",
        "    df_result.to_csv(file_path, mode='a', header=False, index=False)\n",
        "else:\n",
        "    df_result.to_csv(file_path, index=False)\n",
        "\n",
        "\n",
        "# CSV 파일을 데이터프레임으로 불러오기\n",
        "df_loaded = pd.read_csv(file_path)\n",
        "df_loaded\n",
        "\n",
        "\n",
        "\n",
        "\n"
      ],
      "metadata": {
        "colab": {
          "base_uri": "https://localhost:8080/",
          "height": 247
        },
        "id": "rsovCDYHL1PZ",
        "outputId": "bf918b76-21f5-45be-f2ea-8d5e7aaa586d"
      },
      "execution_count": null,
      "outputs": [
        {
          "output_type": "error",
          "ename": "NameError",
          "evalue": "ignored",
          "traceback": [
            "\u001b[0;31m---------------------------------------------------------------------------\u001b[0m",
            "\u001b[0;31mNameError\u001b[0m                                 Traceback (most recent call last)",
            "\u001b[0;32m<ipython-input-70-97f797b3434c>\u001b[0m in \u001b[0;36m<cell line: 5>\u001b[0;34m()\u001b[0m\n\u001b[1;32m      4\u001b[0m data = {\n\u001b[1;32m      5\u001b[0m     \u001b[0;34m'name'\u001b[0m\u001b[0;34m:\u001b[0m \u001b[0;34m[\u001b[0m\u001b[0mfile_name\u001b[0m\u001b[0;34m]\u001b[0m\u001b[0;34m,\u001b[0m\u001b[0;34m\u001b[0m\u001b[0;34m\u001b[0m\u001b[0m\n\u001b[0;32m----> 6\u001b[0;31m     \u001b[0;34m'total_sentences'\u001b[0m\u001b[0;34m:\u001b[0m \u001b[0;34m[\u001b[0m\u001b[0mtotal_sentences\u001b[0m\u001b[0;34m]\u001b[0m\u001b[0;34m,\u001b[0m\u001b[0;34m\u001b[0m\u001b[0;34m\u001b[0m\u001b[0m\n\u001b[0m\u001b[1;32m      7\u001b[0m     \u001b[0;34m'negative_count'\u001b[0m\u001b[0;34m:\u001b[0m \u001b[0;34m[\u001b[0m\u001b[0mnegative_count\u001b[0m\u001b[0;34m]\u001b[0m\u001b[0;34m,\u001b[0m\u001b[0;34m\u001b[0m\u001b[0;34m\u001b[0m\u001b[0m\n\u001b[1;32m      8\u001b[0m     \u001b[0;34m'negative_ratio'\u001b[0m\u001b[0;34m:\u001b[0m \u001b[0;34m[\u001b[0m\u001b[0mnegative_ratio\u001b[0m\u001b[0;34m]\u001b[0m\u001b[0;34m\u001b[0m\u001b[0;34m\u001b[0m\u001b[0m\n",
            "\u001b[0;31mNameError\u001b[0m: name 'total_sentences' is not defined"
          ]
        }
      ]
    },
    {
      "cell_type": "markdown",
      "source": [
        "# 3. 결과 확인 및 가설 검정"
      ],
      "metadata": {
        "id": "adU56Sl2L6Uj"
      }
    },
    {
      "cell_type": "markdown",
      "source": [
        "## 1) 결과를 그래프로 나타낸다."
      ],
      "metadata": {
        "id": "r-Uip2nNL8nh"
      }
    },
    {
      "cell_type": "markdown",
      "source": [
        "## 2) 가설검정을 시행한다\n",
        "- 각 그룹 간 차이를 ANOVA로 시행 (그룹이 2개가 아니니까)"
      ],
      "metadata": {
        "id": "us_9jPGzK7hf"
      }
    },
    {
      "cell_type": "code",
      "source": [
        "# ---------------- 설문 결과 데이터프레임으로 불러오기 -------------------\n",
        "survey_df = pd.read_csv(survey_path + survey_name)\n",
        "\n",
        "# 'user_name'과 '설문 합계' 칼럼만 남기기\n",
        "survey_df = survey_df[['user_name', '설문 합계']]\n",
        "\n",
        "# '설문 합계' 칼럼의 이름을 영어 변수명으로 변경\n",
        "survey_df = survey_df.rename(columns={'설문 합계': 'survey_Total'})\n",
        "\n",
        "# 결과 확인\n",
        "survey_df"
      ],
      "metadata": {
        "id": "5WG82RteMA12"
      },
      "execution_count": null,
      "outputs": []
    },
    {
      "cell_type": "code",
      "source": [
        "import pandas as pd\n",
        "import seaborn as sns\n",
        "import matplotlib.pyplot as plt\n",
        "import scipy.stats as stats\n",
        "\n",
        "file_path_indi = os.path.join(final_path, final_name + '_indi.csv')\n",
        "file_path_group = os.path.join(final_path, final_name + '_group.csv')\n",
        "\n",
        "# CSV 파일을 데이터프레임으로 불러오기\n",
        "df_loaded = pd.read_csv(file_path_indi)\n",
        "\n",
        "# Subset을 위한 조건 설정\n",
        "sur_df = df_loaded.copy()\n",
        "sur_df['survey_Total'] = sur_df['name'].apply(lambda x: survey_df.loc[survey_df['user_name'] == x[:-3], 'survey_Total'].values[0])\n",
        "\n",
        "# Subset을 위한 Self-esteem Group 조건 설정\n",
        "sur_df['Self-esteem Group'] = pd.cut(sur_df['survey_Total'],\n",
        "                                    bins=[-float('inf'), 14, 29, float('inf')],\n",
        "                                    labels=['Low Self-Esteem', 'Average Self-Esteem', 'High Self-Esteem'])\n",
        "\n",
        "# Subset 조건을 만족하는 데이터프레임 생성\n",
        "subset_df = sur_df[sur_df['name'].isin(survey_df['user_name'] + '_개인')]\n",
        "\n",
        "# Create the graph\n",
        "sns.barplot(x='Self-esteem Group', y='negative_ratio', data=subset_df, ci=None)\n",
        "plt.xlabel('Group')\n",
        "plt.ylabel('Average Negative Language Ratio')\n",
        "plt.title('Negative Language Ratio by Self-esteem Group')\n",
        "\n",
        "# Calculate the mean and standard deviation\n",
        "subset_mean = subset_df['negative_ratio'].mean()\n",
        "subset_std = subset_df['negative_ratio'].std()\n",
        "\n",
        "# Plot the mean and standard deviation lines\n",
        "plt.axhline(subset_mean, color='red', linestyle='-', label='Group Mean')\n",
        "plt.axhline(subset_mean + subset_std, color='red', linestyle='--', label='Mean + Std Dev')\n",
        "plt.axhline(subset_mean - subset_std, color='red', linestyle='--', label='Mean - Std Dev')\n",
        "\n",
        "plt.legend()\n",
        "\n",
        "plt.show()\n",
        "\n",
        "print('')\n",
        "print('')\n",
        "low_self_esteem_mean = subset_df[subset_df['Self-esteem Group'] == 'Low Self-Esteem']['negative_ratio'].mean()\n",
        "average_self_esteem_mean = subset_df[subset_df['Self-esteem Group'] == 'Average Self-Esteem']['negative_ratio'].mean()\n",
        "high_self_esteem_mean = subset_df[subset_df['Self-esteem Group'] == 'High Self-Esteem']['negative_ratio'].mean()\n",
        "\n",
        "print('<부정적 언어 사용 비율의 각 그룹 별 평균값>')\n",
        "print('낮은 자아존중감 그룹의 부정적 언어 사용 비율(평균값): {:.5f}'.format(low_self_esteem_mean))\n",
        "print('보통 수준 자아존중감 그룹의 부정적 언어 사용 비율(평균값): {:.5f}'.format(average_self_esteem_mean))\n",
        "print('높은 자아존중감 그룹의 부정적 언어 사용 비율(평균값): {:.5f}'.format(high_self_esteem_mean))\n"
      ],
      "metadata": {
        "id": "qNTvN7ZFdB54"
      },
      "execution_count": null,
      "outputs": []
    },
    {
      "cell_type": "markdown",
      "source": [
        "## 2) 가설검정을 시행한다\n",
        "- 각 그룹 간 차이를 ANOVA로 시행 (그룹이 2개가 아니니까)"
      ],
      "metadata": {
        "id": "nCwGkWI6MNjW"
      }
    },
    {
      "cell_type": "code",
      "source": [
        "# 자아존중감이 낮은 그룹 데이터\n",
        "low_self_esteem = subset_df[subset_df['Self-esteem Group'] == 'Low Self-Esteem']['negative_ratio']\n",
        "\n",
        "# 평균 자아존중감인 그룹 데이터\n",
        "average_self_esteem = subset_df[subset_df['Self-esteem Group'] == 'Average Self-Esteem']['negative_ratio']\n",
        "\n",
        "# 자아존중감이 높은 그룹 데이터\n",
        "high_self_esteem = subset_df[subset_df['Self-esteem Group'] == 'High Self-Esteem']['negative_ratio']\n",
        "\n",
        "# 일원 분산분석 수행\n",
        "f_statistic, p_value = stats.f_oneway(low_self_esteem, average_self_esteem, high_self_esteem)\n",
        "\n",
        "print(\"F-statistic:\", f_statistic)\n",
        "print(\"p-value:\", p_value)\n",
        "\n",
        "alpha = 0.05  # 유의수준 설정\n",
        "\n",
        "print('')\n",
        "\n",
        "if p_value < alpha:\n",
        "    print(\"유의미한 결과: 세 그룹 간의 부정적 언어 사용 비율에 차이가 있습니다.\")\n",
        "else:\n",
        "    print(\"유의미하지 않은 결과: 세 그룹 간의 부정적 언어 사용 비율에 차이가 없습니다.\")\n",
        "\n"
      ],
      "metadata": {
        "colab": {
          "base_uri": "https://localhost:8080/"
        },
        "id": "JvU20BEAK9_7",
        "outputId": "2f67fd7f-7d92-4e99-c228-ce13340d845d"
      },
      "execution_count": null,
      "outputs": [
        {
          "output_type": "stream",
          "name": "stdout",
          "text": [
            "F-statistic: 22.215912784705342\n",
            "p-value: 1.0622841670227049e-05\n",
            "\n",
            "유의미한 결과: 세 그룹 간의 부정적 언어 사용 비율에 차이가 있습니다.\n"
          ]
        }
      ]
    },
    {
      "cell_type": "markdown",
      "source": [
        "<단체 개인 차이 확인>"
      ],
      "metadata": {
        "id": "D_o_dmX_jLEr"
      }
    },
    {
      "cell_type": "code",
      "source": [
        "file_path_indi = os.path.join(final_path, final_name + '_indi.csv')\n",
        "file_path_group = os.path.join(final_path, final_name + '_group.csv')\n",
        "\n",
        "df_group = pd.read_csv(file_path_group)\n",
        "df_indi = pd.read_csv(file_path_indi)\n",
        "df_indi"
      ],
      "metadata": {
        "id": "YBtSInc4yBtz"
      },
      "execution_count": null,
      "outputs": []
    },
    {
      "cell_type": "code",
      "source": [
        "# 자아존중감 그룹 설정\n",
        "df_indi['survey_Total'] = df_indi['name'].apply(lambda x: survey_df.loc[survey_df['user_name'] == x[:-3], 'survey_Total'].values[0])\n",
        "df_group['survey_Total'] = df_group['name'].apply(lambda x: survey_df.loc[survey_df['user_name'] == x[:-3], 'survey_Total'].values[0])\n",
        "\n",
        "# Subset을 위한 Self-esteem Group 조건 설정\n",
        "df_indi['Self-esteem Group'] = pd.cut(df_indi['survey_Total'],\n",
        "                                    bins=[-float('inf'), 14, 29, float('inf')],\n",
        "                                    labels=['Low Self-Esteem', 'Average Self-Esteem', 'High Self-Esteem'])\n",
        "df_group['Self-esteem Group'] = pd.cut(df_group['survey_Total'],\n",
        "                                    bins=[-float('inf'), 14, 29, float('inf')],\n",
        "                                    labels=['Low Self-Esteem', 'Average Self-Esteem', 'High Self-Esteem'])"
      ],
      "metadata": {
        "id": "8cI1LfMIysKO"
      },
      "execution_count": null,
      "outputs": []
    },
    {
      "cell_type": "markdown",
      "source": [
        "## 1) 단체 - 개인 : 전체"
      ],
      "metadata": {
        "id": "wJoRw1hY5zie"
      }
    },
    {
      "cell_type": "code",
      "source": [
        "import pandas as pd\n",
        "import seaborn as sns\n",
        "import matplotlib.pyplot as plt\n",
        "import scipy.stats as stats\n",
        "\n",
        "indi_mean = df_indi['negative_ratio'].mean()\n",
        "group_mean = df_group['negative_ratio'].mean()\n",
        "\n",
        "sns.set(style=\"whitegrid\")\n",
        "fig, ax = plt.subplots(figsize=(8, 6))\n",
        "sns.barplot(x=['Individual Chatroom', 'Group Chatroom'], y=[indi_mean, group_mean], ax=ax)\n",
        "ax.set_xlabel('Chatroom Type')\n",
        "ax.set_ylabel('Average Negative Language Ratio')\n",
        "ax.set_title('Comparison of Average Negative Language Ratio')\n",
        "\n",
        "\n",
        "mean_diff = indi_mean - group_mean\n",
        "\n",
        "plt.show()\n",
        "\n",
        "# Print the results\n",
        "print('<채팅방 유형에 따른 부정적 언어 사용 비율 - 전체 참가자에 대한>')\n",
        "print('개인 채팅방에서의 부정적 언어 사용 비율(평균값): {:.5f}'.format(indi_mean))\n",
        "print('단체 채팅방에서의 부정적 언어 사용 비율(평균값): {:.5f}'.format(group_mean))\n",
        "print('부정적 언어 사용 비율의 평균값 차이: {:.5f}'.format(mean_diff))\n"
      ],
      "metadata": {
        "colab": {
          "base_uri": "https://localhost:8080/",
          "height": 647
        },
        "id": "XoG725c91pG9",
        "outputId": "14fd7bbb-a5f4-4bb5-a05d-08bafffd1cdf"
      },
      "execution_count": null,
      "outputs": [
        {
          "output_type": "display_data",
          "data": {
            "text/plain": [
              "<Figure size 800x600 with 1 Axes>"
            ],
            "image/png": "[encoded data removed]"
          },
          "metadata": {}
        },
        {
          "output_type": "stream",
          "name": "stdout",
          "text": [
            "<채팅방 유형에 따른 부정적 언어 사용 비율 - 전체 참가자에 대한>\n",
            "개인 채팅방에서의 부정적 언어 사용 비율(평균값): 0.16121\n",
            "단체 채팅방에서의 부정적 언어 사용 비율(평균값): 0.14348\n",
            "부정적 언어 사용 비율의 평균값 차이: 0.01773\n"
          ]
        }
      ]
    },
    {
      "cell_type": "code",
      "source": [
        "import scipy.stats as stats\n",
        "\n",
        "t_statistic, p_value = stats.ttest_ind(df_indi['negative_ratio'], df_group['negative_ratio'])\n",
        "\n",
        "alpha = 0.05\n",
        "\n",
        "print(\"T-statistic: {:.5f}\".format(t_statistic))\n",
        "print(\"p-value: {:.5f}\".format(p_value))\n",
        "\n",
        "if p_value < alpha:\n",
        "    print(\"유의미한 결과: 두 그룹 간의 부정적 언어 사용 비율에 차이가 있습니다.\")\n",
        "else:\n",
        "    print(\"유의미하지 않은 결과: 두 그룹 간의 부정적 언어 사용 비율에 차이가 없습니다.\")"
      ],
      "metadata": {
        "colab": {
          "base_uri": "https://localhost:8080/"
        },
        "id": "0Xzjv_-Y7V2j",
        "outputId": "3c42e7f9-166f-4d5c-c594-ee2f45fc28cd"
      },
      "execution_count": null,
      "outputs": [
        {
          "output_type": "stream",
          "name": "stdout",
          "text": [
            "T-statistic: 1.24737\n",
            "p-value: 0.21917\n",
            "유의미하지 않은 결과: 두 그룹 간의 부정적 언어 사용 비율에 차이가 없습니다.\n"
          ]
        }
      ]
    },
    {
      "cell_type": "markdown",
      "source": [
        "## 2) 단체-개인: 낮은 자아존중감 그룹"
      ],
      "metadata": {
        "id": "F9IVWUZh53qR"
      }
    },
    {
      "cell_type": "code",
      "source": [
        "## 낮은 자아존중감 그룹(7명)에 대한 개인 채팅방 vs 단체 채팅방 차\n",
        "\n",
        "\n",
        "import pandas as pd\n",
        "import seaborn as sns\n",
        "import matplotlib.pyplot as plt\n",
        "import scipy.stats as stats\n",
        "\n",
        "# Select only the rows with Low Self-Esteem in Self-esteem Group column\n",
        "df_indi_low_self_esteem = df_indi[df_indi['Self-esteem Group'] == 'Low Self-Esteem']\n",
        "df_group_low_self_esteem = df_group[df_group['Self-esteem Group'] == 'Low Self-Esteem']\n",
        "\n",
        "# Calculate the average negative language ratio for each dataset\n",
        "indi_low_self_esteem_mean = df_indi_low_self_esteem['negative_ratio'].mean()\n",
        "group_low_self_esteem_mean = df_group_low_self_esteem['negative_ratio'].mean()\n",
        "\n",
        "# Visualize the comparison\n",
        "sns.set(style=\"whitegrid\")\n",
        "fig, ax = plt.subplots(figsize=(8, 6))\n",
        "sns.barplot(x=['Individual Chatroom', 'Group Chatroom'], y=[indi_low_self_esteem_mean, group_low_self_esteem_mean], ax=ax)\n",
        "ax.set_xlabel('Chatroom Type')\n",
        "ax.set_ylabel('Average Negative Language Ratio')\n",
        "ax.set_title('Comparison of Average Negative Language Ratio\\n(Low Self-Esteem Group)')\n",
        "plt.show()\n",
        "\n",
        "# Print the results\n",
        "print('<채팅방 유형에 따른 부정적 언어 사용 비율 - 낮은 자아존중감 그룹에 속하는 참가자만>')\n",
        "print('개인 채팅방에서의 부정적 언어 사용 비율(평균값): {:.5f}'.format(indi_low_self_esteem_mean))\n",
        "print('단체 채팅방에서의 부정적 언어 사용 비율(평균값): {:.5f}'.format(group_low_self_esteem_mean))\n",
        "\n",
        "mean_diff = indi_low_self_esteem_mean - group_low_self_esteem_mean\n",
        "print('부정적 언어 사용 비율의 평균값 차이: {:.5f}'.format(mean_diff))\n"
      ],
      "metadata": {
        "colab": {
          "base_uri": "https://localhost:8080/",
          "height": 667
        },
        "id": "EcPrLfUt1FkW",
        "outputId": "6ee512f0-be67-45ba-a235-812295665b86"
      },
      "execution_count": null,
      "outputs": [
        {
          "output_type": "display_data",
          "data": {
            "text/plain": [
              "<Figure size 800x600 with 1 Axes>"
            ],
            "image/png": "[encoded data removed]"
          },
          "metadata": {}
        },
        {
          "output_type": "stream",
          "name": "stdout",
          "text": [
            "<채팅방 유형에 따른 부정적 언어 사용 비율 - 낮은 자아존중감 그룹에 속하는 참가자만>\n",
            "개인 채팅방에서의 부정적 언어 사용 비율(평균값): 0.21619\n",
            "단체 채팅방에서의 부정적 언어 사용 비율(평균값): 0.17190\n",
            "부정적 언어 사용 비율의 평균값 차이: 0.04429\n"
          ]
        }
      ]
    },
    {
      "cell_type": "code",
      "source": [
        "t_statistic, p_value = stats.ttest_ind(df_indi_low_self_esteem['negative_ratio'], df_group_low_self_esteem['negative_ratio'])\n",
        "\n",
        "alpha = 0.05\n",
        "\n",
        "print(\"T-statistic: {:.5f}\".format(t_statistic))\n",
        "print(\"p-value: {:.5f}\".format(p_value))\n",
        "\n",
        "print('')\n",
        "\n",
        "if p_value < alpha:\n",
        "    print(\"유의미한 결과: 두 그룹 간의 부정적 언어 사용 비율에 차이가 있습니다.\")\n",
        "else:\n",
        "    print(\"유의미하지 않은 결과: 두 그룹 간의 부정적 언어 사용 비율에 차이가 없습니다.\")\n",
        "\n"
      ],
      "metadata": {
        "colab": {
          "base_uri": "https://localhost:8080/"
        },
        "id": "pDGJkgk46RwM",
        "outputId": "d8d93a5d-6130-4a26-c189-b6ddf541f49c"
      },
      "execution_count": null,
      "outputs": [
        {
          "output_type": "stream",
          "name": "stdout",
          "text": [
            "T-statistic: 2.19794\n",
            "p-value: 0.04831\n",
            "\n",
            "유의미한 결과: 두 그룹 간의 부정적 언어 사용 비율에 차이가 있습니다.\n"
          ]
        }
      ]
    }
  ]
}