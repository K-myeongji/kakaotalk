{
  "nbformat": 4,
  "nbformat_minor": 0,
  "metadata": {
    "colab": {
      "provenance": [],
      "include_colab_link": true
    },
    "kernelspec": {
      "name": "python3",
      "display_name": "Python 3"
    },
    "language_info": {
      "name": "python"
    }
  },
  "cells": [
    {
      "cell_type": "markdown",
      "metadata": {
        "id": "view-in-github",
        "colab_type": "text"
      },
      "source": [
        "<a href=\"https://colab.research.google.com/github/K-myeongji/kakaotalk/blob/preprocessing/%EC%A0%84%EC%B2%98%EB%A6%AC.ipynb\" target=\"_parent\"><img src=\"https://colab.research.google.com/assets/colab-badge.svg\" alt=\"Open In Colab\"/></a>"
      ]
    },
    {
      "cell_type": "markdown",
      "source": [
        "# 1. 데이터 전처리"
      ],
      "metadata": {
        "id": "_yJEFevQHr53"
      }
    },
    {
      "cell_type": "code",
      "execution_count": null,
      "metadata": {
        "id": "pfJVqtnbHnOH"
      },
      "outputs": [],
      "source": [
        "import re\n",
        "import os\n",
        "import pandas as pd"
      ]
    },
    {
      "cell_type": "code",
      "source": [
        "# 드라이브 마운트\n",
        "from google.colab import drive\n",
        "drive.mount('/content/drive')"
      ],
      "metadata": {
        "colab": {
          "base_uri": "https://localhost:8080/"
        },
        "id": "BF4BOZETHyTW",
        "outputId": "b312b0e0-178e-4800-91ea-bad582f441ee"
      },
      "execution_count": null,
      "outputs": [
        {
          "output_type": "stream",
          "name": "stdout",
          "text": [
            "Drive already mounted at /content/drive; to attempt to forcibly remount, call drive.mount(\"/content/drive\", force_remount=True).\n"
          ]
        }
      ]
    },
    {
      "cell_type": "code",
      "source": [
        "## 사용하면서 수정하는 부분(이외에는 수정x) ----------------------------------------\n",
        "\n",
        "name = '**' # 카카오톡 내에서의 이름\n",
        "file_name = '***' # 파일로 저장할 이름(풀네임) -> 개인톡일 경우 이름_개인 / 단체톡일 경우 이름_단체  *** 중요\n",
        "\n",
        "# ---- 카카오톡 파일 경로 및 이름\n",
        "f_path = '*' # 처음 카톡 파일 불러오기\n",
        "f_name_1 = '*' # 채팅방 여러개일 경우 합치는  --> 하나면 그냥 f_name_1만 쓰고, f_name_2는 주석처리\n",
        "# f_name_2 = '*'  # 채팅방 여러개일 경우 합치는\n",
        "down_path = '*' # 전처리한 카톡 데이터 저장\n",
        "\n",
        "# ---- train 파일 경로 및 이름\n",
        "train_path = '*'\n",
        "\n",
        "# ---- 설문 답변 경로 및 이름\n",
        "survey_path = '*'\n",
        "survey_name = '*'\n",
        "\n",
        "# ---- 마지막 결과 파일 저장 경로(수정x - 우리 공유폴더 안에 저장한 거)\n",
        "final_path = '*/'\n",
        "final_name = '*'\n",
        "\n",
        "## ---------------------------------------------------------------------------------"
      ],
      "metadata": {
        "id": "hLUl1Y3CH5xS"
      },
      "execution_count": null,
      "outputs": []
    },
    {
      "cell_type": "markdown",
      "source": [
        "## 1) 데이터 불러오기"
      ],
      "metadata": {
        "id": "7m-PRzK0H_tV"
      }
    },
    {
      "cell_type": "code",
      "source": [
        "def katalk_msg_parse(file_path):\n",
        "    my_katalk_data = list()\n",
        "    katalk_msg_pattern = \"[0-9]{4}[년.] [0-9]{1,2}[월.] [0-9]{1,2}[일.] 오\\S [0-9]{1,2}:[0-9]{1,2},.*:\"  # 카카오톡 스마트폰 버전\n",
        "    #katalk_msg_pattern = \"\\[(.*?)\\] \\[(오\\S) ([0-9]{1,2}:[0-9]{1,2})\\] (.*)\"  # 카카오톡 PC버전\n",
        "    date_info = \"[0-9]{4}년 [0-9]{1,2}월 [0-9]{1,2}일 \\S요일\"\n",
        "    in_out_info = \"[0-9]{4}[년.] [0-9]{1,2}[월.] [0-9]{1,2}[일.] 오\\S [0-9]{1,2}:[0-9]{1,2}:.*\"\n",
        "\n",
        "    for line in open(file_path):\n",
        "        if re.match(date_info, line) or re.match(in_out_info, line):\n",
        "            continue\n",
        "        elif line == '\\n':\n",
        "            continue\n",
        "        elif re.match(katalk_msg_pattern, line):\n",
        "            line = line.split(\",\")\n",
        "            date_time = line[0]\n",
        "            user_text = line[1].split(\" : \", maxsplit=1)\n",
        "            user_name = user_text[0].strip()\n",
        "            text = user_text[1].strip()\n",
        "            my_katalk_data.append({'date_time': date_time,\n",
        "                                   'user_name': user_name,\n",
        "                                   'text': text\n",
        "                                   })\n",
        "\n",
        "        else:\n",
        "            if len(my_katalk_data) > 0:\n",
        "                my_katalk_data[-1]['text'] += \"\\n\"+line.strip()\n",
        "\n",
        "    my_katalk_df = pd.DataFrame(my_katalk_data)\n",
        "\n",
        "    return my_katalk_df\n",
        "\n",
        "\n",
        "## https://regexr.com/"
      ],
      "metadata": {
        "id": "c6TnPeD4H-FL"
      },
      "execution_count": null,
      "outputs": []
    },
    {
      "cell_type": "code",
      "source": [
        "import random\n",
        "import string\n",
        "\n",
        "df = katalk_msg_parse(os.path.join(f_path, f_name_1))\n",
        "\n",
        "# # 익명화 함수 정의\n",
        "# def anonymize_name(name):\n",
        "#     # 이름을 익명화하여 반환하는 함수\n",
        "#     random_chars = ''.join(random.choices(string.ascii_lowercase, k=2))\n",
        "#     random_nums = ''.join(random.choices(string.digits, k=2))\n",
        "#     anonymized_name = random_chars + random_nums\n",
        "#     return anonymized_name\n",
        "\n",
        "# # 중복된 user_name이 있는 경우 동일한 익명화된 아이디를 사용하도록 처리\n",
        "# df['user_name'] = df.groupby('user_name')['user_name'].transform(lambda x: anonymize_name(x.iloc[0]))\n",
        "\n",
        "# f_name_2 파일이 존재하는 경우에만 df_2로 데이터프레임 생성\n",
        "df['date_time'] = df['date_time'].str.replace('오전', 'AM')\n",
        "df['date_time'] = df['date_time'].str.replace('오후', 'PM')\n",
        "# 휴대폰 기종에 따라 datetime 형식 변환\n",
        "try:\n",
        "    df['date_time'] = pd.to_datetime(df['date_time'], format='%Y년 %m월 %d일 %p %I:%M')  # 예진주영명지 - 갤럭시용\n",
        "except ValueError:\n",
        "    df['date_time'] = pd.to_datetime(df['date_time'], format='%Y. %m. %d. %p %I:%M')  # 효림 - 아이폰용\n",
        "\n",
        "df = df.reset_index(drop=True)\n",
        "print('파일이 하나만 들어왔고, 그 파일을 데이터프레임 형식으로 불러왔습니다.')\n",
        "\n",
        "df\n",
        "\n"
      ],
      "metadata": {
        "id": "bW_RRXhSIMqJ"
      },
      "execution_count": null,
      "outputs": []
    },
    {
      "cell_type": "code",
      "source": [
        "import re\n",
        "\n",
        "# 정규표현식 패턴을 사용하여 날짜 형식의 문자열을 찾아 제거하는 함수\n",
        "def remove_date_string(text):\n",
        "    pattern = r'\\d+년 \\d+월 \\d+일 (오전|오후) \\d+:\\d+'\n",
        "    return re.sub(pattern, '', text)\n",
        "\n",
        "# 'text' 열에 적용하여 날짜 형식의 문자열을 제거하고 새로운 열 'clean_text'를 생성\n",
        "df['text'] = df['text'].apply(remove_date_string)\n",
        "\n",
        "df"
      ],
      "metadata": {
        "id": "lUUcImiGP0Zx"
      },
      "execution_count": null,
      "outputs": []
    },
    {
      "cell_type": "markdown",
      "source": [
        "#### 중간에 생략한 코드 있음"
      ],
      "metadata": {
        "id": "7Dgzq8u5IioD"
      }
    },
    {
      "cell_type": "code",
      "source": [
        "#시간 전처리\n",
        "df['year'] = df['date_time'].dt.year\n",
        "df['month'] = df['date_time'].dt.month\n",
        "df['day'] = df['date_time'].dt.day\n",
        "df['weekday'] = df['date_time'].dt.day_name()\n",
        "df['hour'] = df['date_time'].dt.hour\n",
        "\n",
        "\n",
        "df['minute'] = df['date_time'].dt.minute\n",
        "df['second'] = df['date_time'].dt.second\n",
        "\n",
        "df"
      ],
      "metadata": {
        "id": "ASWHMR1YI5VC"
      },
      "execution_count": null,
      "outputs": []
    },
    {
      "cell_type": "code",
      "source": [
        "# 날짜 가르기\n",
        "start_date = '2023-01-01 00:00:00'\n",
        "end_date = '2023-06-01 00:00:00'\n",
        "\n",
        "mask = (df['date_time'] >= start_date) & (df['date_time'] <= end_date)\n",
        "df_sep = df.loc[mask]\n",
        "\n",
        "df_sep = df_sep.reset_index(drop=True)\n",
        "df_sep"
      ],
      "metadata": {
        "id": "K9MZQXBBIli9"
      },
      "execution_count": null,
      "outputs": []
    },
    {
      "cell_type": "markdown",
      "source": [
        "## 2) 텍스트 제외 데이터 전처리\n"
      ],
      "metadata": {
        "id": "QFus8ccDJWUI"
      }
    },
    {
      "cell_type": "code",
      "source": [
        "# # 문장 길이 및 단어 수 칼럼 추가 -- 맞아?? 효림\n",
        "df_sep['msg_len'] = df_sep['text'].str.len()\n",
        "df_sep['msg_word_count'] = df_sep['text'].str.split().str.len()"
      ],
      "metadata": {
        "id": "KY_myeR6tD7X"
      },
      "execution_count": null,
      "outputs": []
    },
    {
      "cell_type": "code",
      "source": [
        "#동영상, 사진 등 전처리 후 제거\n",
        "\n",
        "audio_visual_text = '^동영상$|^사진$|^사진 [0-9]{1,2}장$'\n",
        "mask = df_sep['text'].str.contains(audio_visual_text)\n",
        "\n",
        "# 동영상, 사진 관련 덱스트가 있는 행은 1로 표시, 그렇지 않은 행은 0으로 표시\n",
        "df_sep.loc[mask, 'audio_visual'] = 1\n",
        "df_sep.loc[~mask, 'audio_visual'] = 0\n",
        "\n",
        "df_sep.loc[mask, 'msg_len'] = 0\n",
        "df_sep.loc[mask, 'msg_word_count'] = 0\n",
        "print('동영상 및 사진 데이터 전처리 전: ', len(df_sep))\n",
        "\n",
        "df_sep[df_sep['audio_visual']==1]\n",
        "df_sep = df_sep[df_sep['audio_visual'] != 1]\n",
        "print('동영상 및 사진 데이터 전처리 후: ', len(df_sep))\n",
        "\n",
        "df_sep = df_sep.reset_index(drop=True)\n",
        "df_sep"
      ],
      "metadata": {
        "id": "iTxOcc3DMd3k"
      },
      "execution_count": null,
      "outputs": []
    },
    {
      "cell_type": "code",
      "source": [
        "# --- 보이스톡, 페이스톡, 이모티콘, url, 정산 메시지 제거\n",
        "\n",
        "!pip install emoji~=1.6.3 # 이모티콘 전처리를 위한 패키지 설치\n",
        "!pip install urlextract # url제거를 위한 패키지 설치"
      ],
      "metadata": {
        "id": "My2P4hnZO3Qx"
      },
      "execution_count": null,
      "outputs": []
    },
    {
      "cell_type": "code",
      "source": [
        "# 보이스톡, 페이스톡 등 전처리 후 제거 ---- 수정: 전처리 전 데이터프레임 df가 오길래 전처리 후 데이터프레임 df_sep으로 -- 효림\n",
        "df_sep[~df_sep['text'].str.contains('보이스톡|페이스톡')]\n",
        "print('보이스톡, 페이스톡 데이터 전처리 후: ', len(df_sep))"
      ],
      "metadata": {
        "id": "VRzxIyuOXjIP"
      },
      "execution_count": null,
      "outputs": []
    },
    {
      "cell_type": "code",
      "source": [
        "\n",
        "from urlextract import URLExtract\n",
        "\n",
        "text = \"\"\"Google Colab: https://colab.research.google.com.\n",
        "       Introduction for google colab: https://colab.research.google.com/notebooks/intro.ipynb\"\"\"\n",
        "\n",
        "extractor = URLExtract()\n",
        "urls = extractor.find_urls(text)\n",
        "\n",
        "# for url in urls:\n",
        "#     print(url)\n",
        "\n",
        "extractor = URLExtract()\n",
        "df_sep['url'] = df_sep['text'].apply(extractor.find_urls)\n",
        "\n",
        "df_sep['url_count'] = df_sep['url'].apply(len)\n",
        "url_df = df_sep.loc[df_sep['url_count'] > 0]\n",
        "url_df[['date_time','user_name','url','url_count']]\n",
        "\n",
        "df_sep = df_sep[df_sep['url_count'] == 0]\n",
        "print('url 데이터 전처리 후: ', len(df_sep))\n",
        "df_sep"
      ],
      "metadata": {
        "id": "r2aV8e6SYO86"
      },
      "execution_count": null,
      "outputs": []
    },
    {
      "cell_type": "code",
      "source": [
        "\n",
        "import emoji\n",
        "\n",
        "def extract_emojis(text):\n",
        "    emoji_list = list()\n",
        "    for c in text:\n",
        "        if c in emoji.UNICODE_EMOJI['en']:\n",
        "            emoji_list.append(c)\n",
        "    return emoji_list\n",
        "\n",
        "mimetic = \"[laughter!?~]+\"\n",
        "punctuations = \"[,.]{2,}\"\n",
        "emo_type1_facial1 = \"[;:]{1}[\\^\\'-]?[)(DPpboOX]\"\n",
        "emo_type1_facial2 = \"[>ㅜㅠㅡ@\\^][ㅁㅇ0oO\\._\\-]*[\\^ㅜㅠㅡ@<];*\"\n",
        "emo_type3 = \"\\(.+?\\)\"\n",
        "\n",
        "nonverbal_list = [mimetic, emo_type1_facial1, emo_type1_facial2, emo_type3]\n",
        "\n",
        "df_sep['nonverbal'] = df_sep['text'].str.findall('|'.join(nonverbal_list)) + df_sep['text'].map(extract_emojis)\n",
        "df_sep['nonverbal_count'] = df_sep['nonverbal'].apply(len)\n",
        "\n",
        "df_sep = df_sep[df_sep['nonverbal_count'] == 0] # 이모지가 포함된 문장에서 이모지만 삭제해주는\n",
        "df_sep = df_sep[~(df_sep['text'] == '이모티콘')]\n",
        "df_sep['text'] = df_sep['text'].str.replace('이모티콘', '')\n",
        "\n",
        "print('이모티콘 데이터 전처리 후: ', len(df_sep))\n",
        "df_sep"
      ],
      "metadata": {
        "id": "vlDxza3XXpFs"
      },
      "execution_count": null,
      "outputs": []
    },
    {
      "cell_type": "code",
      "source": [
        "# 정산 메시지 제거\n",
        "df_sep = df_sep[~df_sep['text'].str.contains('정산하기를 요청했어요.')]\n",
        "df_sep = df_sep[~df_sep['text'].str.contains('받은 카카오페이머니는 송금 및 온/오프라인 결제도 가능해요.')]\n",
        "df_sep['text'] = df_sep['text'].str.replace(r'(?:\\b(?:1|2|3|4|5|6|7|8|9|[1-9][0-9]|100)\\b\\s*)?송금 받기 전까지 내역 상세화면에서 취소할 수 있어요\\.', '', regex=True)\n",
        "print('정산 메시지 데이터 전처리 후: ', len(df_sep))\n",
        "\n",
        "df_sep = df_sep[df_sep['text'].str.strip().astype(bool)] ### 임의로 추가(text가 비어있는 열 제외하는 코드)\n",
        "df_sep = df_sep.reset_index(drop=True)\n",
        "df_sep"
      ],
      "metadata": {
        "id": "HlWJJfayNgRp"
      },
      "execution_count": null,
      "outputs": []
    }
  ]
}